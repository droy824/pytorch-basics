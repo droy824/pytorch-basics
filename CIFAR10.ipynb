{
  "nbformat": 4,
  "nbformat_minor": 0,
  "metadata": {
    "colab": {
      "provenance": [],
      "gpuType": "T4"
    },
    "kernelspec": {
      "name": "python3",
      "display_name": "Python 3"
    },
    "language_info": {
      "name": "python"
    },
    "accelerator": "GPU"
  },
  "cells": [
    {
      "cell_type": "code",
      "execution_count": null,
      "metadata": {
        "id": "XTPGpCK42fBG"
      },
      "outputs": [],
      "source": [
        "# @title Importing dependencies\n",
        "\n",
        "import torch\n",
        "from torch import nn\n",
        "import torchvision\n",
        "from torchvision import datasets\n",
        "from torchvision.transforms import ToTensor"
      ]
    },
    {
      "cell_type": "code",
      "source": [
        "# @title Getting CIFAR10 data\n",
        "\n",
        "train_data = datasets.CIFAR10(root=\"data\",\n",
        "                              train=True,\n",
        "                              download=True,\n",
        "                              transform=ToTensor(),\n",
        "                              target_transform=None)\n",
        "\n",
        "test_data = datasets.CIFAR10(root=\"data\",\n",
        "                              train=False,\n",
        "                              download=True,\n",
        "                              transform=ToTensor(),\n",
        "                              target_transform=None)"
      ],
      "metadata": {
        "colab": {
          "base_uri": "https://localhost:8080/"
        },
        "id": "1MQmMYlK5pt4",
        "outputId": "b7060292-b8a5-43a5-bb39-ddb1b078bd3a"
      },
      "execution_count": null,
      "outputs": [
        {
          "output_type": "stream",
          "name": "stdout",
          "text": [
            "Files already downloaded and verified\n",
            "Files already downloaded and verified\n"
          ]
        }
      ]
    },
    {
      "cell_type": "code",
      "source": [
        "# @title Visualising the data\n",
        "\n",
        "import matplotlib.pyplot as plt\n",
        "\n",
        "print(f\"Length of train dataset: {len(train_data)}\")\n",
        "print(f\"Length of test dataset: {len(test_data)}\")\n",
        "print(f\"Shape of sample image: {train_data[0][0].shape}\")\n",
        "\n",
        "fig = plt.figure(figsize=(5, 5))\n",
        "random_idx = torch.randint(0, len(train_data), size=[1]).item()\n",
        "img, label = train_data[random_idx]\n",
        "img = torch.permute(img, (1, 2, 0))\n",
        "plt.imshow(img)\n",
        "plt.title(train_data.classes[label])"
      ],
      "metadata": {
        "colab": {
          "base_uri": "https://localhost:8080/",
          "height": 539
        },
        "id": "LSyvuxkC8ZL5",
        "outputId": "3d20215a-0beb-4bcb-a5d5-723bc020adc4"
      },
      "execution_count": null,
      "outputs": [
        {
          "output_type": "stream",
          "name": "stdout",
          "text": [
            "Length of train dataset: 50000\n",
            "Length of test dataset: 10000\n",
            "Shape of sample image: torch.Size([3, 32, 32])\n"
          ]
        },
        {
          "output_type": "execute_result",
          "data": {
            "text/plain": [
              "Text(0.5, 1.0, 'horse')"
            ]
          },
          "metadata": {},
          "execution_count": 40
        },
        {
          "output_type": "display_data",
          "data": {
            "text/plain": [
              "<Figure size 500x500 with 1 Axes>"
            ],
            "image/png": "[encoded data removed]"
          },
          "metadata": {}
        }
      ]
    },
    {
      "cell_type": "code",
      "source": [
        "# @title Making a dataloader\n",
        "\n",
        "from torch.utils.data import DataLoader\n",
        "\n",
        "BATCH_SIZE = 32\n",
        "\n",
        "train_loader = DataLoader(dataset=train_data,\n",
        "                          batch_size=BATCH_SIZE,\n",
        "                          shuffle=True)\n",
        "\n",
        "test_loader = DataLoader(dataset=test_data,\n",
        "                          batch_size=BATCH_SIZE,\n",
        "                          shuffle=False)\n",
        "\n",
        "print(f\"Train dataloader: {len(train_loader)} batches of {BATCH_SIZE}.\")\n",
        "print(f\"Test dataloader: {len(test_loader)} batches of {BATCH_SIZE}.\")"
      ],
      "metadata": {
        "colab": {
          "base_uri": "https://localhost:8080/"
        },
        "id": "LJHcHI6W_A4c",
        "outputId": "1eb5d851-19df-4167-c668-22795d3e671d"
      },
      "execution_count": null,
      "outputs": [
        {
          "output_type": "stream",
          "name": "stdout",
          "text": [
            "Train dataloader: 1563 batches of 32.\n",
            "Test dataloader: 313 batches of 32.\n"
          ]
        }
      ]
    },
    {
      "cell_type": "code",
      "source": [
        "# @title Defining a model\n",
        "\n",
        "class cifarModel(nn.Module):\n",
        "  def __init__(self, input_shape, output_shape):\n",
        "    super().__init__()\n",
        "    self.block1 = nn.Sequential(\n",
        "        nn.Conv2d(in_channels=3, out_channels=10, kernel_size=3, stride=1, padding=1),\n",
        "        nn.ReLU(),\n",
        "        nn.Conv2d(in_channels=10, out_channels=10, kernel_size=3, stride=1, padding=1),\n",
        "        nn.ReLU(),\n",
        "        nn.MaxPool2d(kernel_size=2, stride=2)\n",
        "    )\n",
        "    self.block2 = nn.Sequential(\n",
        "        nn.Conv2d(in_channels=10, out_channels=10, kernel_size=3, stride=1, padding=1),\n",
        "        nn.ReLU(),\n",
        "        nn.Conv2d(in_channels=10, out_channels=10, kernel_size=3, stride=1, padding=1),\n",
        "        nn.ReLU(),\n",
        "        nn.MaxPool2d(kernel_size=2, stride=2)\n",
        "    )\n",
        "    self.classifier = nn.Sequential(\n",
        "        nn.Flatten(),\n",
        "        nn.Linear(in_features=640, out_features=2560),\n",
        "        nn.ReLU(),\n",
        "        nn.Linear(in_features=2560, out_features=320),\n",
        "        nn.ReLU(),\n",
        "        nn.Linear(in_features=320, out_features=output_shape),\n",
        "        nn.ReLU()\n",
        "    )\n",
        "\n",
        "  def forward(self, X):\n",
        "    X = self.block1(X)\n",
        "    X = self.block2(X)\n",
        "    X = self.classifier(X)\n",
        "    return X"
      ],
      "metadata": {
        "id": "kbA_CxKhGYJx"
      },
      "execution_count": null,
      "outputs": []
    },
    {
      "cell_type": "code",
      "source": [
        "# @title Setting up device-agnostic code\n",
        "\n",
        "device = \"cuda\" if torch.cuda.is_available() else \"cpu\"\n",
        "print(device)"
      ],
      "metadata": {
        "id": "PbN_br2gFpJz",
        "colab": {
          "base_uri": "https://localhost:8080/"
        },
        "outputId": "4aaaeb19-7388-4295-a36a-ba3deda51b88"
      },
      "execution_count": null,
      "outputs": [
        {
          "output_type": "stream",
          "name": "stdout",
          "text": [
            "cuda\n"
          ]
        }
      ]
    },
    {
      "cell_type": "code",
      "source": [
        "# @title Instantiating the model\n",
        "\n",
        "torch.manual_seed(42)\n",
        "\n",
        "model_0 = cifarModel(input_shape=32*32*3,\n",
        "                    output_shape=len(train_data.classes))\n",
        "model_0.to(device)"
      ],
      "metadata": {
        "id": "K-2qanq0Fi0J",
        "colab": {
          "base_uri": "https://localhost:8080/"
        },
        "outputId": "8373f415-4f95-4565-d3bc-2e1fab110254"
      },
      "execution_count": null,
      "outputs": [
        {
          "output_type": "execute_result",
          "data": {
            "text/plain": [
              "cifarModel(\n",
              "  (block1): Sequential(\n",
              "    (0): Conv2d(3, 10, kernel_size=(3, 3), stride=(1, 1), padding=(1, 1))\n",
              "    (1): ReLU()\n",
              "    (2): Conv2d(10, 10, kernel_size=(3, 3), stride=(1, 1), padding=(1, 1))\n",
              "    (3): ReLU()\n",
              "    (4): MaxPool2d(kernel_size=2, stride=2, padding=0, dilation=1, ceil_mode=False)\n",
              "  )\n",
              "  (block2): Sequential(\n",
              "    (0): Conv2d(10, 10, kernel_size=(3, 3), stride=(1, 1), padding=(1, 1))\n",
              "    (1): ReLU()\n",
              "    (2): Conv2d(10, 10, kernel_size=(3, 3), stride=(1, 1), padding=(1, 1))\n",
              "    (3): ReLU()\n",
              "    (4): MaxPool2d(kernel_size=2, stride=2, padding=0, dilation=1, ceil_mode=False)\n",
              "  )\n",
              "  (classifier): Sequential(\n",
              "    (0): Flatten(start_dim=1, end_dim=-1)\n",
              "    (1): Linear(in_features=640, out_features=2560, bias=True)\n",
              "    (2): ReLU()\n",
              "    (3): Linear(in_features=2560, out_features=320, bias=True)\n",
              "    (4): ReLU()\n",
              "    (5): Linear(in_features=320, out_features=10, bias=True)\n",
              "    (6): ReLU()\n",
              "  )\n",
              ")"
            ]
          },
          "metadata": {},
          "execution_count": 88
        }
      ]
    },
    {
      "cell_type": "code",
      "source": [
        "# @title Set up loss function and optimiser\n",
        "\n",
        "loss_fn = nn.CrossEntropyLoss()\n",
        "optimiser = torch.optim.SGD(params=model_0.parameters(),\n",
        "                            lr=0.1)"
      ],
      "metadata": {
        "id": "qfdo22-9F27I"
      },
      "execution_count": null,
      "outputs": []
    },
    {
      "cell_type": "code",
      "source": [
        "# @title Practice getting items from dataloader\n",
        "\n",
        "import matplotlib.pyplot as plt\n",
        "\n",
        "for batch, (img, label) in enumerate(train_loader):\n",
        "  print(batch, label)\n",
        "  break\n",
        "# print(img[0].shape)\n",
        "# print(label[0].shape)\n",
        "# fig = plt.figure(figsize=(5, 5))\n",
        "# # random_idx = torch.randint(0, len(train_data), size=[1]).item()\n",
        "# img, label = train_data[0]\n",
        "# img = torch.permute(img, (1, 2, 0))\n",
        "# plt.imshow(img)\n",
        "# plt.title(train_data.classes[label])"
      ],
      "metadata": {
        "colab": {
          "base_uri": "https://localhost:8080/"
        },
        "id": "KCD3c9XAG6oR",
        "outputId": "43b98bf7-c72e-4e8d-9b5e-d6b76f3ec9a3"
      },
      "execution_count": null,
      "outputs": [
        {
          "output_type": "stream",
          "name": "stdout",
          "text": [
            "0 tensor([9, 6, 3, 9, 1, 6, 6, 3, 8, 4, 3, 6, 7, 7, 8, 8, 8, 9, 3, 5, 3, 2, 9, 1,\n",
            "        3, 7, 4, 6, 5, 4, 9, 4])\n"
          ]
        }
      ]
    },
    {
      "cell_type": "code",
      "source": [
        "!pip install torchmetrics"
      ],
      "metadata": {
        "collapsed": true,
        "id": "if0ZDAUHeqLW",
        "colab": {
          "base_uri": "https://localhost:8080/"
        },
        "outputId": "141c0e8d-0c7c-4f90-df37-eee0815c0d76"
      },
      "execution_count": null,
      "outputs": [
        {
          "output_type": "stream",
          "name": "stdout",
          "text": [
            "Collecting torchmetrics\n",
            "  Downloading torchmetrics-1.4.0.post0-py3-none-any.whl (868 kB)\n",
            "\u001b[?25l     \u001b[90m━━━━━━━━━━━━━━━━━━━━━━━━━━━━━━━━━━━━━━━━\u001b[0m \u001b[32m0.0/868.8 kB\u001b[0m \u001b[31m?\u001b[0m eta \u001b[36m-:--:--\u001b[0m\r\u001b[2K     \u001b[91m━━━━━\u001b[0m\u001b[90m╺\u001b[0m\u001b[90m━━━━━━━━━━━━━━━━━━━━━━━━━━━━━━━━━━\u001b[0m \u001b[32m112.6/868.8 kB\u001b[0m \u001b[31m3.2 MB/s\u001b[0m eta \u001b[36m0:00:01\u001b[0m\r\u001b[2K     \u001b[90m━━━━━━━━━━━━━━━━━━━━━━━━━━━━━━━━━━━━━━━━\u001b[0m \u001b[32m868.8/868.8 kB\u001b[0m \u001b[31m14.3 MB/s\u001b[0m eta \u001b[36m0:00:00\u001b[0m\n",
            "\u001b[?25hRequirement already satisfied: numpy>1.20.0 in /usr/local/lib/python3.10/dist-packages (from torchmetrics) (1.25.2)\n",
            "Requirement already satisfied: packaging>17.1 in /usr/local/lib/python3.10/dist-packages (from torchmetrics) (24.1)\n",
            "Requirement already satisfied: torch>=1.10.0 in /usr/local/lib/python3.10/dist-packages (from torchmetrics) (2.3.0+cu121)\n",
            "Collecting lightning-utilities>=0.8.0 (from torchmetrics)\n",
            "  Downloading lightning_utilities-0.11.3.post0-py3-none-any.whl (26 kB)\n",
            "Requirement already satisfied: setuptools in /usr/local/lib/python3.10/dist-packages (from lightning-utilities>=0.8.0->torchmetrics) (67.7.2)\n",
            "Requirement already satisfied: typing-extensions in /usr/local/lib/python3.10/dist-packages (from lightning-utilities>=0.8.0->torchmetrics) (4.12.2)\n",
            "Requirement already satisfied: filelock in /usr/local/lib/python3.10/dist-packages (from torch>=1.10.0->torchmetrics) (3.15.4)\n",
            "Requirement already satisfied: sympy in /usr/local/lib/python3.10/dist-packages (from torch>=1.10.0->torchmetrics) (1.12.1)\n",
            "Requirement already satisfied: networkx in /usr/local/lib/python3.10/dist-packages (from torch>=1.10.0->torchmetrics) (3.3)\n",
            "Requirement already satisfied: jinja2 in /usr/local/lib/python3.10/dist-packages (from torch>=1.10.0->torchmetrics) (3.1.4)\n",
            "Requirement already satisfied: fsspec in /usr/local/lib/python3.10/dist-packages (from torch>=1.10.0->torchmetrics) (2023.6.0)\n",
            "Collecting nvidia-cuda-nvrtc-cu12==12.1.105 (from torch>=1.10.0->torchmetrics)\n",
            "  Using cached nvidia_cuda_nvrtc_cu12-12.1.105-py3-none-manylinux1_x86_64.whl (23.7 MB)\n",
            "Collecting nvidia-cuda-runtime-cu12==12.1.105 (from torch>=1.10.0->torchmetrics)\n",
            "  Using cached nvidia_cuda_runtime_cu12-12.1.105-py3-none-manylinux1_x86_64.whl (823 kB)\n",
            "Collecting nvidia-cuda-cupti-cu12==12.1.105 (from torch>=1.10.0->torchmetrics)\n",
            "  Using cached nvidia_cuda_cupti_cu12-12.1.105-py3-none-manylinux1_x86_64.whl (14.1 MB)\n",
            "Collecting nvidia-cudnn-cu12==8.9.2.26 (from torch>=1.10.0->torchmetrics)\n",
            "  Using cached nvidia_cudnn_cu12-8.9.2.26-py3-none-manylinux1_x86_64.whl (731.7 MB)\n",
            "Collecting nvidia-cublas-cu12==12.1.3.1 (from torch>=1.10.0->torchmetrics)\n",
            "  Using cached nvidia_cublas_cu12-12.1.3.1-py3-none-manylinux1_x86_64.whl (410.6 MB)\n",
            "Collecting nvidia-cufft-cu12==11.0.2.54 (from torch>=1.10.0->torchmetrics)\n",
            "  Using cached nvidia_cufft_cu12-11.0.2.54-py3-none-manylinux1_x86_64.whl (121.6 MB)\n",
            "Collecting nvidia-curand-cu12==10.3.2.106 (from torch>=1.10.0->torchmetrics)\n",
            "  Using cached nvidia_curand_cu12-10.3.2.106-py3-none-manylinux1_x86_64.whl (56.5 MB)\n",
            "Collecting nvidia-cusolver-cu12==11.4.5.107 (from torch>=1.10.0->torchmetrics)\n",
            "  Using cached nvidia_cusolver_cu12-11.4.5.107-py3-none-manylinux1_x86_64.whl (124.2 MB)\n",
            "Collecting nvidia-cusparse-cu12==12.1.0.106 (from torch>=1.10.0->torchmetrics)\n",
            "  Using cached nvidia_cusparse_cu12-12.1.0.106-py3-none-manylinux1_x86_64.whl (196.0 MB)\n",
            "Collecting nvidia-nccl-cu12==2.20.5 (from torch>=1.10.0->torchmetrics)\n",
            "  Using cached nvidia_nccl_cu12-2.20.5-py3-none-manylinux2014_x86_64.whl (176.2 MB)\n",
            "Collecting nvidia-nvtx-cu12==12.1.105 (from torch>=1.10.0->torchmetrics)\n",
            "  Using cached nvidia_nvtx_cu12-12.1.105-py3-none-manylinux1_x86_64.whl (99 kB)\n",
            "Requirement already satisfied: triton==2.3.0 in /usr/local/lib/python3.10/dist-packages (from torch>=1.10.0->torchmetrics) (2.3.0)\n",
            "Collecting nvidia-nvjitlink-cu12 (from nvidia-cusolver-cu12==11.4.5.107->torch>=1.10.0->torchmetrics)\n",
            "  Downloading nvidia_nvjitlink_cu12-12.5.82-py3-none-manylinux2014_x86_64.whl (21.3 MB)\n",
            "\u001b[2K     \u001b[90m━━━━━━━━━━━━━━━━━━━━━━━━━━━━━━━━━━━━━━━━\u001b[0m \u001b[32m21.3/21.3 MB\u001b[0m \u001b[31m68.3 MB/s\u001b[0m eta \u001b[36m0:00:00\u001b[0m\n",
            "\u001b[?25hRequirement already satisfied: MarkupSafe>=2.0 in /usr/local/lib/python3.10/dist-packages (from jinja2->torch>=1.10.0->torchmetrics) (2.1.5)\n",
            "Requirement already satisfied: mpmath<1.4.0,>=1.1.0 in /usr/local/lib/python3.10/dist-packages (from sympy->torch>=1.10.0->torchmetrics) (1.3.0)\n",
            "Installing collected packages: nvidia-nvtx-cu12, nvidia-nvjitlink-cu12, nvidia-nccl-cu12, nvidia-curand-cu12, nvidia-cufft-cu12, nvidia-cuda-runtime-cu12, nvidia-cuda-nvrtc-cu12, nvidia-cuda-cupti-cu12, nvidia-cublas-cu12, lightning-utilities, nvidia-cusparse-cu12, nvidia-cudnn-cu12, nvidia-cusolver-cu12, torchmetrics\n",
            "Successfully installed lightning-utilities-0.11.3.post0 nvidia-cublas-cu12-12.1.3.1 nvidia-cuda-cupti-cu12-12.1.105 nvidia-cuda-nvrtc-cu12-12.1.105 nvidia-cuda-runtime-cu12-12.1.105 nvidia-cudnn-cu12-8.9.2.26 nvidia-cufft-cu12-11.0.2.54 nvidia-curand-cu12-10.3.2.106 nvidia-cusolver-cu12-11.4.5.107 nvidia-cusparse-cu12-12.1.0.106 nvidia-nccl-cu12-2.20.5 nvidia-nvjitlink-cu12-12.5.82 nvidia-nvtx-cu12-12.1.105 torchmetrics-1.4.0.post0\n"
          ]
        }
      ]
    },
    {
      "cell_type": "code",
      "source": [
        "# @title Importing accuracy function from torchmetrics\n",
        "\n",
        "from torchmetrics import Accuracy\n",
        "\n",
        "accuracy = Accuracy(task=\"multiclass\",\n",
        "                    num_classes=10).to(device)"
      ],
      "metadata": {
        "id": "2mOiDVCQeP5b"
      },
      "execution_count": null,
      "outputs": []
    },
    {
      "cell_type": "code",
      "source": [
        "model_0.eval()\n",
        "with torch.inference_mode():\n",
        "  for X_test, y_test in test_loader:\n",
        "    X_test, y_test = X_test.to(device), y_test.to(device)\n",
        "    y_pred = model_0(X_test)\n",
        "    y_pred_classes = y_pred.argmax(dim=1)\n",
        "    break\n",
        "print(y_pred.shape)\n",
        "print(y_test.shape)"
      ],
      "metadata": {
        "colab": {
          "base_uri": "https://localhost:8080/"
        },
        "id": "WenTNDaxuApH",
        "outputId": "6ad25dff-c140-4158-d03a-3dd1ed1f1ed5"
      },
      "execution_count": null,
      "outputs": [
        {
          "output_type": "stream",
          "name": "stdout",
          "text": [
            "torch.Size([32, 10])\n",
            "torch.Size([32])\n"
          ]
        }
      ]
    },
    {
      "cell_type": "code",
      "source": [
        "# @title Training\n",
        "\n",
        "torch.manual_seed(42)\n",
        "\n",
        "epochs = 15\n",
        "\n",
        "for epoch in range(epochs):\n",
        "  train_accuracy = 0\n",
        "  train_loss = 0\n",
        "\n",
        "  ## Training\n",
        "  for idx, (X, y) in enumerate(train_loader):\n",
        "    X, y = X.to(device), y.to(device)\n",
        "    # 0. Set to training mode\n",
        "    model_0.train()\n",
        "\n",
        "    # 1. Forward pass\n",
        "    y_pred = model_0(X)\n",
        "\n",
        "    # 2. Calculate loss and accuracy\n",
        "    loss = loss_fn(y_pred, y)\n",
        "    train_loss += loss\n",
        "    y_pred_classes = y_pred.argmax(dim=1)\n",
        "    train_accuracy += accuracy(y_pred_classes, y)\n",
        "\n",
        "    # 3. Zero grad\n",
        "    optimiser.zero_grad()\n",
        "\n",
        "    # 4. Backprop\n",
        "    loss.backward()\n",
        "\n",
        "    # 5. Update optimiser\n",
        "    optimiser.step()\n",
        "\n",
        "  train_loss /= len(train_loader)\n",
        "  train_accuracy /= len(train_loader)\n",
        "\n",
        "  ## Testing\n",
        "  test_accuracy = 0\n",
        "  test_loss = 0\n",
        "  # 0. Set to testing mode\n",
        "  model_0.eval()\n",
        "  with torch.inference_mode():\n",
        "    for X_test, y_test in test_loader:\n",
        "      X_test, y_test = X_test.to(device), y_test.to(device)\n",
        "\n",
        "      # 1. Forward pass\n",
        "      y_pred_test = model_0(X_test)\n",
        "\n",
        "      # 2. Calculate loss and accuracy\n",
        "      test_loss += loss_fn(y_pred_test, y_test)\n",
        "      y_pred_test_classes = y_pred_test.argmax(dim=1)\n",
        "      test_accuracy += accuracy(y_pred_test_classes, y_test)\n",
        "\n",
        "    test_accuracy /= len(test_loader)\n",
        "    test_loss /= len(test_loader)\n",
        "\n",
        "  print(\"Epoch: {} | Train loss: {} | Train accuracy: {}% | Test loss: {} | Test accuracy: {}%\".format(epoch, train_loss, train_accuracy*100, test_loss, test_accuracy*100))"
      ],
      "metadata": {
        "colab": {
          "base_uri": "https://localhost:8080/"
        },
        "id": "-COD2n31F53w",
        "outputId": "19f7f49a-c16e-420d-92e0-b09606036497"
      },
      "execution_count": null,
      "outputs": [
        {
          "output_type": "stream",
          "name": "stdout",
          "text": [
            "Epoch: 0 | Train loss: 2.2516307830810547 | Train accuracy: 17.592370986938477% | Test loss: 2.1233463287353516 | Test accuracy: 26.956867218017578%\n",
            "Epoch: 1 | Train loss: 1.9236781597137451 | Train accuracy: 32.32365417480469% | Test loss: 1.6055314540863037 | Test accuracy: 42.73162841796875%\n",
            "Epoch: 2 | Train loss: 1.4286257028579712 | Train accuracy: 48.77239227294922% | Test loss: 1.3197145462036133 | Test accuracy: 52.336265563964844%\n",
            "Epoch: 3 | Train loss: 1.2079259157180786 | Train accuracy: 56.92178726196289% | Test loss: 1.2894266843795776 | Test accuracy: 54.013580322265625%\n",
            "Epoch: 4 | Train loss: 1.0256437063217163 | Train accuracy: 63.577659606933594% | Test loss: 1.1249674558639526 | Test accuracy: 60.49320602416992%\n",
            "Epoch: 5 | Train loss: 0.8570820093154907 | Train accuracy: 69.59172821044922% | Test loss: 1.1752986907958984 | Test accuracy: 59.66453552246094%\n",
            "Epoch: 6 | Train loss: 0.6945690512657166 | Train accuracy: 75.23392486572266% | Test loss: 1.287956953048706 | Test accuracy: 59.185302734375%\n",
            "Epoch: 7 | Train loss: 0.5569697618484497 | Train accuracy: 80.34429168701172% | Test loss: 1.3070945739746094 | Test accuracy: 59.884185791015625%\n",
            "Epoch: 8 | Train loss: 0.45844566822052 | Train accuracy: 83.77719116210938% | Test loss: 1.674918293952942 | Test accuracy: 56.55950164794922%\n",
            "Epoch: 9 | Train loss: 0.3845965266227722 | Train accuracy: 86.79822540283203% | Test loss: 2.172994613647461 | Test accuracy: 53.7839469909668%\n",
            "Epoch: 10 | Train loss: 0.33528533577919006 | Train accuracy: 88.61964416503906% | Test loss: 1.8978134393692017 | Test accuracy: 57.54792022705078%\n",
            "Epoch: 11 | Train loss: 0.2920558750629425 | Train accuracy: 90.1911392211914% | Test loss: 1.7811766862869263 | Test accuracy: 58.0970458984375%\n",
            "Epoch: 12 | Train loss: 0.26554712653160095 | Train accuracy: 91.25479888916016% | Test loss: 2.213947296142578 | Test accuracy: 57.09864044189453%\n",
            "Epoch: 13 | Train loss: 0.24363958835601807 | Train accuracy: 91.89659118652344% | Test loss: 2.4243180751800537 | Test accuracy: 56.05031967163086%\n",
            "Epoch: 14 | Train loss: 0.22673390805721283 | Train accuracy: 92.65035247802734% | Test loss: 1.934193730354309 | Test accuracy: 59.23522186279297%\n"
          ]
        }
      ]
    },
    {
      "cell_type": "markdown",
      "source": [
        "# Results\n",
        "### **Model 1**:\n",
        "```\n",
        "cifarModel(\n",
        "  (layers): Sequential(\n",
        "    (0): Flatten(start_dim=1, end_dim=-1)\n",
        "    (1): Linear(in_features=3072, out_features=30720, bias=True)\n",
        "    (2): ReLU()\n",
        "    (3): Linear(in_features=30720, out_features=10, bias=True)\n",
        "    (4): ReLU()\n",
        "  )\n",
        ")\n",
        "```\n",
        "Trained for 15 epochs (273.1s) gives:\n",
        "```\n",
        "Train loss: 1.8271445035934448 | Train accuracy: 40.20913314819336% | Test loss: 1.9195170402526855 | Test accuracy: 37.380191802978516%\n",
        "```\n",
        "\n",
        "### **Model 2**:\n",
        "```\n",
        "cifarModel(\n",
        "  (classifier): Sequential(\n",
        "    (0): Flatten(start_dim=1, end_dim=-1)\n",
        "    (1): Linear(in_features=3072, out_features=30720, bias=True)\n",
        "    (2): ReLU()\n",
        "    (3): Linear(in_features=30720, out_features=640, bias=True)\n",
        "    (4): ReLU()\n",
        "    (5): Linear(in_features=640, out_features=10, bias=True)\n",
        "    (6): ReLU()\n",
        "  )\n",
        ")\n",
        "```\n",
        "Trained for 15 epochs (325.207s) gives:\n",
        "```\n",
        "Epoch: 14 | Train loss: 1.0224794149398804 | Train accuracy: 63.33173370361328% | Test loss: 1.576176404953003 | Test accuracy: 49.46086120605469%\n",
        "```\n",
        "\n",
        "### **Model 3**:\n",
        "```\n",
        "cifarModel(\n",
        "  (block1): Sequential(\n",
        "    (0): Conv2d(3, 10, kernel_size=(3, 3), stride=(1, 1), padding=(1, 1))\n",
        "    (1): ReLU()\n",
        "    (2): Conv2d(10, 10, kernel_size=(3, 3), stride=(1, 1), padding=(1, 1))\n",
        "    (3): ReLU()\n",
        "    (4): MaxPool2d(kernel_size=2, stride=2, padding=0, dilation=1, ceil_mode=False)\n",
        "  )\n",
        "  (block2): Sequential(\n",
        "    (0): Conv2d(10, 10, kernel_size=(3, 3), stride=(1, 1), padding=(1, 1))\n",
        "    (1): ReLU()\n",
        "    (2): Conv2d(10, 10, kernel_size=(3, 3), stride=(1, 1), padding=(1, 1))\n",
        "    (3): ReLU()\n",
        "    (4): MaxPool2d(kernel_size=2, stride=2, padding=0, dilation=1, ceil_mode=False)\n",
        "  )\n",
        "  (classifier): Sequential(\n",
        "    (0): Flatten(start_dim=1, end_dim=-1)\n",
        "    (1): Linear(in_features=640, out_features=10, bias=True)\n",
        "  )\n",
        ")\n",
        "```\n",
        "Trained for 15 epochs (211.781s) gives:\n",
        "```\n",
        "Epoch: 14 | Train loss: 1.1179897785186768 | Train accuracy: 60.88851547241211% | Test loss: 1.13052237033844 | Test accuracy: 60.90255355834961%\n",
        "```\n",
        "\n",
        "### **Model 4**:\n",
        "```\n",
        "cifarModel(\n",
        "  (block1): Sequential(\n",
        "    (0): Conv2d(3, 10, kernel_size=(3, 3), stride=(1, 1), padding=(1, 1))\n",
        "    (1): ReLU()\n",
        "    (2): Conv2d(10, 10, kernel_size=(3, 3), stride=(1, 1), padding=(1, 1))\n",
        "    (3): ReLU()\n",
        "    (4): MaxPool2d(kernel_size=2, stride=2, padding=0, dilation=1, ceil_mode=False)\n",
        "  )\n",
        "  (block2): Sequential(\n",
        "    (0): Conv2d(10, 10, kernel_size=(3, 3), stride=(1, 1), padding=(1, 1))\n",
        "    (1): ReLU()\n",
        "    (2): Conv2d(10, 10, kernel_size=(3, 3), stride=(1, 1), padding=(1, 1))\n",
        "    (3): ReLU()\n",
        "    (4): MaxPool2d(kernel_size=2, stride=2, padding=0, dilation=1, ceil_mode=False)\n",
        "  )\n",
        "  (classifier): Sequential(\n",
        "    (0): Flatten(start_dim=1, end_dim=-1)\n",
        "    (1): Linear(in_features=640, out_features=2560, bias=True)\n",
        "    (2): ReLU()\n",
        "    (3): Linear(in_features=2560, out_features=320, bias=True)\n",
        "    (4): ReLU()\n",
        "    (5): Linear(in_features=320, out_features=10, bias=True)\n",
        "    (6): ReLU()\n",
        "  )\n",
        ")\n",
        "```\n",
        "Trained for 15 epochs (223.549) gives:\n",
        "```\n",
        "Epoch: 14 | Train loss: 0.22673390805721283 | Train accuracy: 92.65035247802734% | Test loss: 1.934193730354309 | Test accuracy: 59.23522186279297%\n",
        "```"
      ],
      "metadata": {
        "id": "8IPEzEAI3Yw5"
      }
    }
  ]
}