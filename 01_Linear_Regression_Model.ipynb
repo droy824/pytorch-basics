{
  "nbformat": 4,
  "nbformat_minor": 0,
  "metadata": {
    "colab": {
      "provenance": [],
      "collapsed_sections": [
        "8T9j7voe35Gq",
        "j5l0RrNHnYFu",
        "PdANDlJTjqr7",
        "MbZkBkXvOxzq",
        "CN220UlYRRxT",
        "lGMUNfkPD31Q"
      ]
    },
    "kernelspec": {
      "name": "python3",
      "display_name": "Python 3"
    },
    "language_info": {
      "name": "python"
    }
  },
  "cells": [
    {
      "cell_type": "code",
      "execution_count": null,
      "metadata": {
        "id": "YeeDmQO5srGs"
      },
      "outputs": [],
      "source": [
        "from torch import nn\n",
        "import torch"
      ]
    },
    {
      "cell_type": "markdown",
      "source": [
        "# Creating a dataset"
      ],
      "metadata": {
        "id": "Q26R4HLN3xEK"
      }
    },
    {
      "cell_type": "code",
      "source": [
        "# @title Making a linear dataset\n",
        "\n",
        "weight = 0.7  # slope\n",
        "bias = 0.3  # intercept\n",
        "\n",
        "start = 0\n",
        "end = 1\n",
        "step = 0.02\n",
        "\n",
        "X = torch.arange(start, end, step).unsqueeze(dim = 1) # X values are stored in a tensor\n",
        "y = weight * X + bias # Y axis values depend on X\n",
        "\n",
        "X[:10], y[:10]"
      ],
      "metadata": {
        "colab": {
          "base_uri": "https://localhost:8080/"
        },
        "id": "KCizxHE1s3oS",
        "outputId": "45a45b72-a443-499f-bc90-cf8810608acc"
      },
      "execution_count": null,
      "outputs": [
        {
          "output_type": "execute_result",
          "data": {
            "text/plain": [
              "(tensor([[0.0000],\n",
              "         [0.0200],\n",
              "         [0.0400],\n",
              "         [0.0600],\n",
              "         [0.0800],\n",
              "         [0.1000],\n",
              "         [0.1200],\n",
              "         [0.1400],\n",
              "         [0.1600],\n",
              "         [0.1800]]),\n",
              " tensor([[0.3000],\n",
              "         [0.3140],\n",
              "         [0.3280],\n",
              "         [0.3420],\n",
              "         [0.3560],\n",
              "         [0.3700],\n",
              "         [0.3840],\n",
              "         [0.3980],\n",
              "         [0.4120],\n",
              "         [0.4260]]))"
            ]
          },
          "metadata": {},
          "execution_count": 2
        }
      ]
    },
    {
      "cell_type": "code",
      "source": [
        "# @title Splitting into train and test datasets\n",
        "\n",
        "# Let's use an 80-20 split (w/ no validation set)\n",
        "# We need to split X and y into 2 parts, each of 80-20 split\n",
        "train_split = int(0.8 * len(X))\n",
        "\n",
        "X_train, y_train = X[:train_split], y[:train_split]\n",
        "X_test, y_test = X[train_split:], y[train_split:]\n",
        "\n",
        "len(X_train), len(y_train), len(X_test), len(y_test)"
      ],
      "metadata": {
        "colab": {
          "base_uri": "https://localhost:8080/"
        },
        "id": "61c8qrTctm3-",
        "outputId": "3ec99e78-b9d0-45a1-dbd2-955cec2ddb6c"
      },
      "execution_count": null,
      "outputs": [
        {
          "output_type": "execute_result",
          "data": {
            "text/plain": [
              "(40, 40, 10, 10)"
            ]
          },
          "metadata": {},
          "execution_count": 3
        }
      ]
    },
    {
      "cell_type": "code",
      "source": [
        "# @title Let's visualise our data!\n",
        "\n",
        "import matplotlib.pyplot as plt\n",
        "\n",
        "def plot_predictions(train_data = X_train,  # We'll also use this function to plot our model's predictions later\n",
        "              train_labels = y_train,\n",
        "              test_data = X_test,\n",
        "              test_labels = y_test,\n",
        "              predictions = None):\n",
        "  plt.figure(figsize = (7, 5))\n",
        "\n",
        "  # Plotting training data (in blue)\n",
        "  plt.scatter(train_data, train_labels, c = \"b\", s = 4, label = \"Training data\")\n",
        "\n",
        "  # Plotting testing data (in green)\n",
        "  plt.scatter(test_data, test_labels, c = \"g\", s = 4, label = \"Testing data\")\n",
        "\n",
        "  # Plotting predictions (in red)\n",
        "  if predictions is not None:\n",
        "    plt.scatter(test_data, predictions, c = \"r\", s = 4, label = \"Model's predictions\")\n",
        "\n",
        "  # Showing the legend\n",
        "  plt.legend(prop = {\"size\":14})"
      ],
      "metadata": {
        "id": "73VV_hVjuuPb"
      },
      "execution_count": null,
      "outputs": []
    },
    {
      "cell_type": "code",
      "source": [
        "plot_predictions()"
      ],
      "metadata": {
        "colab": {
          "base_uri": "https://localhost:8080/",
          "height": 445
        },
        "id": "SXK61uAiuyUA",
        "outputId": "492e54f4-6970-4077-d83a-4750b2533ba2"
      },
      "execution_count": null,
      "outputs": [
        {
          "output_type": "display_data",
          "data": {
            "text/plain": [
              "<Figure size 700x500 with 1 Axes>"
            ],
            "image/png": "[encoded data removed]"
          },
          "metadata": {}
        }
      ]
    },
    {
      "cell_type": "markdown",
      "source": [
        "# Building a model"
      ],
      "metadata": {
        "id": "8T9j7voe35Gq"
      }
    },
    {
      "cell_type": "code",
      "source": [
        "# @title Finally... let's build our linear regression model!\n",
        "\n",
        "class LinearRegressionModel(nn.Module): # <- Everything in PyTorch inherits from/is a subclass of nn.Module - it's the building block of NNs\n",
        "  def __init__(self):\n",
        "    super().__init__()\n",
        "\n",
        "    # We're gonna use 2 parameters (since we know our dataset is linear, and hence can describe it w/ 2 parameters)\n",
        "    # If we had a more complex dataset, like images, nn.Module would help us create better parameters\n",
        "    self.weight = nn.Parameter(torch.randn(1, # <- We're starting w/ a random weight. The model will learn the correct one through training.\n",
        "                                           dtype=torch.float,  # <- PyTorch loves float32 by default!\n",
        "                                           requires_grad=True))  # <- can we update this value w/ gradient descent? True = yes!\n",
        "    self.bias = nn.Parameter(torch.randn(1,\n",
        "                                         dtype=torch.float,\n",
        "                                         requires_grad=True))\n",
        "\n",
        "  # Now that we've defind our model's parameters, let's write the forward function:\n",
        "  def forward(self, x: torch.Tensor) -> torch.Tensor: # <- 'x' is the input data. This function returns values of type torch.Tensor\n",
        "    return self.weight * x + self.bias  # <- Same as the linear regression formula!"
      ],
      "metadata": {
        "id": "qj9vSyXXwt4T"
      },
      "execution_count": null,
      "outputs": []
    },
    {
      "cell_type": "markdown",
      "source": [
        "**Note:** When making predictions w/ a model use `torch.inference_mode()`. This ensures that PyTorch isn't thinking about gradient descent, so the predictions will go a lot faster!"
      ],
      "metadata": {
        "id": "insucNZBqks8"
      }
    },
    {
      "cell_type": "code",
      "source": [
        "# @title Instantiating our model and checking it's contents\n",
        "\n",
        "# Let's set a manual seed for reproducibility\n",
        "torch.manual_seed(42)\n",
        "\n",
        "# Then let's instantiate our LR model!\n",
        "model_0 = LinearRegressionModel()\n",
        "\n",
        "# Finally we can check its contents (parameters) w/ torch.parameters()\n",
        "list(model_0.parameters())  # <- If you don't use list(), it gives a generator object\n",
        "\n",
        "# We can also use torch.state_dict():\n",
        "model_0.state_dict()"
      ],
      "metadata": {
        "id": "dz5jovaEryGO",
        "colab": {
          "base_uri": "https://localhost:8080/"
        },
        "outputId": "d607ba5d-2c91-4ad1-853d-5fdd86bc63e3"
      },
      "execution_count": null,
      "outputs": [
        {
          "output_type": "execute_result",
          "data": {
            "text/plain": [
              "OrderedDict([('weight', tensor([0.3367])), ('bias', tensor([0.1288]))])"
            ]
          },
          "metadata": {},
          "execution_count": 8
        }
      ]
    },
    {
      "cell_type": "code",
      "source": [
        "# @title Let's setup our loss function and optimiser first\n",
        "\n",
        "loss_fn = nn.L1Loss() # <- L1Loss() is the same thing as Mean Absolute Error (MAE)\n",
        "\n",
        "# Let's use SGD as our optimiser (just cos it's one of the most popular ones)\n",
        "optimiser = torch.optim.SGD(params=model_0.parameters(),\n",
        "                            lr=0.01)"
      ],
      "metadata": {
        "id": "QntRt_Isk7Nb"
      },
      "execution_count": null,
      "outputs": []
    },
    {
      "cell_type": "markdown",
      "source": [
        "We'll usually have to specify two parameters when setting up our optimiser:\n",
        "1. `params`: This specifies the model parameters that the optimiser will work on.\n",
        "2. `lr`: The learning rate of the model. Higher lr means more change to the parameters in each iteration, lower lr means less change to the parameters in each iteration."
      ],
      "metadata": {
        "id": "gxOx9bHPKBLV"
      }
    },
    {
      "cell_type": "markdown",
      "source": [
        "# Let's make our training and testing loops!\n",
        "## First, our **training** loop:\n",
        "We train our model by showing it training data and adjusting its parameters.\n",
        "\n",
        "There's 5 steps:\n",
        "0.   **Loop** through our data (for a certain no. of epochs) & set model to **training mode**!\n",
        "1.   **Forward** pass: Input training data into our `forward()` fn.\n",
        "2.   Calculate the **loss**: Compare our model's current predictions w/ the ground truth values using our `loss_fn`\n",
        "3.   Optimiser **zero grad**: This ensures that our optimiser's gradients are reset (to 0) every iteration, since it accumulates by default (we don't want that)\n",
        "4.   Perfom **backpropagation** on the loss: Go backward and calculate the gradients of each model parameter that needs to be updated (i.e. has `requires_grad=True`) w.r.t the loss\n",
        "5.    **Update** the optimiser: Update each parameter that needs to be updated according to their gradient w.r.t. the loss to improve them\n",
        "\n",
        "## Then, our **testing** loop...\n",
        "Here, we're *evaluating* our model on the *testing* data.\n",
        "\n",
        "There's only 2 steps here:\n",
        "0.  **Loop** through, set the model to **evaluation mode** using `.eval()`, and use the `torch.inference_mode()` context manager. These 2 functions tell PyTorch to stop keeping track of gradients and other things that are not required for evaluation, so that our evaluations go faster!\n",
        "1.  **Forward pass** to get the predictions on our testing data\n",
        "2.  Calculate the **loss** on our testing data + any other evaluation metric you wanna use"
      ],
      "metadata": {
        "id": "j5l0RrNHnYFu"
      }
    },
    {
      "cell_type": "code",
      "source": [
        "# @title Writing our training and testing loops!\n",
        "\n",
        "torch.manual_seed(42)\n",
        "\n",
        "epochs = 200  # <- No. of epochs is an important hyperparameter\n",
        "\n",
        "# Let's make empty lists so we can store info later\n",
        "epoch_count = []\n",
        "train_loss_values = []\n",
        "test_loss_values = []\n",
        "\n",
        "# 0. Loop for no. of epochs\n",
        "for epoch in range(epochs):\n",
        "  ## Training part\n",
        "  # 0. Set model to training mode\n",
        "  model_0.train()\n",
        "\n",
        "  # 1. Forward pass (pass input data to model and get output (predictions))\n",
        "  y_pred = model_0(X_train)\n",
        "\n",
        "  # 2. Calculate the loss w/: loss_fn(input, target)\n",
        "  train_loss = loss_fn(y_pred, y_train)\n",
        "\n",
        "  # 3. Reset optimiser gradients (zero_grad())\n",
        "  optimiser.zero_grad()\n",
        "\n",
        "  # 4. Backpropagate to calculate gradients of each parameter (that needs to be changed)\n",
        "  train_loss.backward()\n",
        "\n",
        "  # 5. Update the optimiser, changing it according to calculated gradient of parameters (take a step)\n",
        "  optimiser.step()\n",
        "\n",
        "\n",
        "  ### Testing part\n",
        "  # 0. Set model to evaluation mode\n",
        "  model_0.eval()\n",
        "\n",
        "  with torch.inference_mode():\n",
        "    # 1. Forward pass (w/ testing data)\n",
        "    test_pred = model_0(y_test)\n",
        "\n",
        "    # 2. Calculate loss + other evaluation metrics\n",
        "    test_loss = loss_fn(test_pred, y_test)\n",
        "\n",
        "    if epoch % 20 == 0: # <- Print out the status of the model in each epoch\n",
        "      epoch_count.append(epoch) # <- We use these lists to plot our model's progress\n",
        "      train_loss_values.append(train_loss.detach().numpy()) # <- .detach() returns a tensor that isn't connected to the NN (i.e. doesn't store gradients)\n",
        "      test_loss_values.append(test_loss.detach().numpy()) # <- .numpy() turns our detached tensor to a np array, which we can plot w/ matplotlib\n",
        "      print(\"Epoch: {} | Train loss: {} | Test loss: {}\".format(epoch, train_loss, test_loss))\n",
        "\n",
        "      # Let's also print out the model's parameters. In this example, we know what they're supposed to be so we can directly compare!\n",
        "      print(model_0.state_dict())\n",
        "      print()"
      ],
      "metadata": {
        "id": "GZ4mRIOYG8aC",
        "colab": {
          "base_uri": "https://localhost:8080/"
        },
        "outputId": "6b687b96-368a-451e-871d-1679185079fa"
      },
      "execution_count": null,
      "outputs": [
        {
          "output_type": "stream",
          "name": "stdout",
          "text": [
            "Epoch: 0 | Train loss: 0.31288138031959534 | Test loss: 0.4698256850242615\n",
            "OrderedDict([('weight', tensor([0.3406])), ('bias', tensor([0.1388]))])\n",
            "\n",
            "Epoch: 20 | Train loss: 0.08908725529909134 | Test loss: 0.20348870754241943\n",
            "OrderedDict([('weight', tensor([0.4184])), ('bias', tensor([0.3333]))])\n",
            "\n",
            "Epoch: 40 | Train loss: 0.04543796554207802 | Test loss: 0.09794081002473831\n",
            "OrderedDict([('weight', tensor([0.4748])), ('bias', tensor([0.3868]))])\n",
            "\n",
            "Epoch: 60 | Train loss: 0.03818932920694351 | Test loss: 0.07198350876569748\n",
            "OrderedDict([('weight', tensor([0.5116])), ('bias', tensor([0.3788]))])\n",
            "\n",
            "Epoch: 80 | Train loss: 0.03132382780313492 | Test loss: 0.05430586263537407\n",
            "OrderedDict([('weight', tensor([0.5459])), ('bias', tensor([0.3648]))])\n",
            "\n",
            "Epoch: 100 | Train loss: 0.024458957836031914 | Test loss: 0.0373220220208168\n",
            "OrderedDict([('weight', tensor([0.5800])), ('bias', tensor([0.3503]))])\n",
            "\n",
            "Epoch: 120 | Train loss: 0.01758546568453312 | Test loss: 0.021132390946149826\n",
            "OrderedDict([('weight', tensor([0.6141])), ('bias', tensor([0.3358]))])\n",
            "\n",
            "Epoch: 140 | Train loss: 0.010716589167714119 | Test loss: 0.012343818321824074\n",
            "OrderedDict([('weight', tensor([0.6485])), ('bias', tensor([0.3218]))])\n",
            "\n",
            "Epoch: 160 | Train loss: 0.0038517764769494534 | Test loss: 0.015704387798905373\n",
            "OrderedDict([('weight', tensor([0.6826])), ('bias', tensor([0.3073]))])\n",
            "\n",
            "Epoch: 180 | Train loss: 0.008932482451200485 | Test loss: 0.01817433163523674\n",
            "OrderedDict([('weight', tensor([0.6951])), ('bias', tensor([0.2993]))])\n",
            "\n"
          ]
        }
      ]
    },
    {
      "cell_type": "code",
      "source": [
        "# @title Visualising the training and testing loss curves\n",
        "\n",
        "plt.plot(epoch_count, train_loss_values, label=\"Train loss\")\n",
        "plt.plot(epoch_count, test_loss_values, label=\"Test loss\")\n",
        "plt.title(\"Training and test loss curves\")\n",
        "plt.ylabel(\"Loss\")\n",
        "plt.xlabel(\"Epochs\")\n",
        "plt.legend()"
      ],
      "metadata": {
        "colab": {
          "base_uri": "https://localhost:8080/",
          "height": 490
        },
        "id": "r9nQmU0Iy6tv",
        "outputId": "01722e82-5724-447a-ffe6-5ef572bf780b"
      },
      "execution_count": null,
      "outputs": [
        {
          "output_type": "execute_result",
          "data": {
            "text/plain": [
              "<matplotlib.legend.Legend at 0x7b1852d767a0>"
            ]
          },
          "metadata": {},
          "execution_count": 11
        },
        {
          "output_type": "display_data",
          "data": {
            "text/plain": [
              "<Figure size 640x480 with 1 Axes>"
            ],
            "image/png": "[encoded data removed]"
          },
          "metadata": {}
        }
      ]
    },
    {
      "cell_type": "markdown",
      "source": [
        "Over 300 epochs, our model learns the weight and bias parameters to be 0.6951 and 0.2993 respectively. The correct weight and bias for our linear dataset is 0.7 and 0.3. It got pretty close!"
      ],
      "metadata": {
        "id": "3XrhlLxvxo-d"
      }
    },
    {
      "cell_type": "markdown",
      "source": [
        "# Making predictions with our trained model"
      ],
      "metadata": {
        "id": "PdANDlJTjqr7"
      }
    },
    {
      "cell_type": "code",
      "source": [
        "# @title Making predictions on testing data with our working model\n",
        "\n",
        "# 1. Set the model to evaluation mode\n",
        "model_0.eval()\n",
        "\n",
        "# 2. Use the .inference_mode() context manager\n",
        "with torch.inference_mode():\n",
        "  y_preds = model_0(X_test)"
      ],
      "metadata": {
        "id": "caqDLshZzH-l"
      },
      "execution_count": null,
      "outputs": []
    },
    {
      "cell_type": "code",
      "source": [
        "# @title And now, let's visualise our predictions\n",
        "\n",
        "plot_predictions(predictions=y_preds)"
      ],
      "metadata": {
        "colab": {
          "base_uri": "https://localhost:8080/",
          "height": 445
        },
        "id": "1oHTOCA6zxsV",
        "outputId": "2af0ce63-8bfd-4647-856a-b8d9bb841e7a"
      },
      "execution_count": null,
      "outputs": [
        {
          "output_type": "display_data",
          "data": {
            "text/plain": [
              "<Figure size 700x500 with 1 Axes>"
            ],
            "image/png": "[encoded data removed]"
          },
          "metadata": {}
        }
      ]
    },
    {
      "cell_type": "markdown",
      "source": [
        "# Saving and loading our model\n",
        "There's 3 main functions we need when saving and loading a model:\n",
        "1.  `torch.save()`: This will save the model into Google Colab.\n",
        "2.  `torch.load()`: This will load our model from Google Colab.\n",
        "3.  `torch.nn.Module.load_state_dict()`: This will load a model's parameter dictionary using a saved `state_dict()` object.\n",
        "\n",
        "PyTorch models have the extension `.pth` or `.pt`. Once saved to Colab, the model will still be lost once the runtime disconnects so we need to save the model to a local directory, or preferably, to Google Drive."
      ],
      "metadata": {
        "id": "w5ZtQElijus0"
      }
    },
    {
      "cell_type": "markdown",
      "source": [
        "We can also save the model in 2 ways:\n",
        "1.  Saving the model's parameters using `state_dict()` (recommended).\n",
        "2.  Saving the entire model using pickling.\n",
        "\n",
        "\"The disadvantage of this approach is that the serialized data is bound to the *specific classes* and the *exact directory structure* used when the model is saved. The reason for this is because pickle does not save the model class itself. Rather, it saves *a path to the file containing the class*, which is used during load time. Because of this, **your code can break** in various ways when used in other projects or after refactors.\""
      ],
      "metadata": {
        "id": "b7gdjfYoZEC7"
      }
    },
    {
      "cell_type": "code",
      "source": [
        "# @title Let's save our linear regression model\n",
        "\n",
        "from pathlib import Path\n",
        "\n",
        "# 1. Create models directory\n",
        "MODEL_PATH = Path(\"models\")\n",
        "MODEL_PATH.mkdir(parents=True,  # <- The parents=True argument tells Python to create any necessary parent directories\n",
        "                 exist_ok=True) # <- exist_ok=True allows the operation to proceed without raising an exception if the directory already exists.\n",
        "\n",
        "# 2. Create model save path\n",
        "MODEL_NAME = \"01_LinearRegressionModel.pth\"\n",
        "MODEL_SAVE_PATH = MODEL_PATH / MODEL_NAME\n",
        "\n",
        "# 3. Save the model state_dict\n",
        "print(\"Saving model to {}\".format(MODEL_SAVE_PATH))\n",
        "torch.save(obj=model_0.state_dict(),\n",
        "           f=MODEL_SAVE_PATH)"
      ],
      "metadata": {
        "colab": {
          "base_uri": "https://localhost:8080/"
        },
        "id": "XUS8c0v2n4Qm",
        "outputId": "365b5146-a33f-458c-9aca-1192d80cdca5"
      },
      "execution_count": null,
      "outputs": [
        {
          "output_type": "stream",
          "name": "stdout",
          "text": [
            "Saving model to models/01_LinearRegressionModel.pth\n"
          ]
        }
      ]
    },
    {
      "cell_type": "code",
      "source": [
        "# Check the saved file path\n",
        "!ls -l models/01_LinearRegressionModel.pth"
      ],
      "metadata": {
        "colab": {
          "base_uri": "https://localhost:8080/"
        },
        "id": "8f4orEz1YTc4",
        "outputId": "af771b22-250c-4740-8fc7-027a06bc422a"
      },
      "execution_count": null,
      "outputs": [
        {
          "output_type": "stream",
          "name": "stdout",
          "text": [
            "-rw-r--r-- 1 root root 1662 Feb  8 06:58 models/01_LinearRegressionModel.pth\n"
          ]
        }
      ]
    },
    {
      "cell_type": "markdown",
      "source": [
        "## Let's save our model to Google Drive"
      ],
      "metadata": {
        "id": "8b5yv_KVg1LC"
      }
    },
    {
      "cell_type": "code",
      "source": [
        "# @title First need to mount the drive\n",
        "from google.colab import drive\n",
        "drive.mount('/content/drive')"
      ],
      "metadata": {
        "colab": {
          "base_uri": "https://localhost:8080/"
        },
        "id": "WbNKrE8NdHXe",
        "outputId": "786d5d23-81cb-4538-d073-f45de965e726"
      },
      "execution_count": null,
      "outputs": [
        {
          "output_type": "stream",
          "name": "stdout",
          "text": [
            "Mounted at /content/drive\n"
          ]
        }
      ]
    },
    {
      "cell_type": "code",
      "source": [
        "# @title Now save to drive!\n",
        "# Again, the same 3 steps for saving are used.\n",
        "\n",
        "# 1. I already made the directory manually in my drive.\n",
        "# I'm gonna use the directory: \"My Drive/Colab Notebooks/Models/PyTorch Tutorial\".\n",
        "\n",
        "# 2. Create model save path\n",
        "MODEL_NAME = \"01_LinearRegressionModel.pth\"\n",
        "MODEL_SAVE_PATH_GDRIVE = f\"/content/drive/My Drive/Colab Notebooks/Models/PyTorch Tutorial/{MODEL_NAME}\"\n",
        "\n",
        "# 3. Save the model state_dict()\n",
        "print(\"Saving model to {}\".format(MODEL_SAVE_PATH_GDRIVE))\n",
        "torch.save(obj=model_0.state_dict(),\n",
        "           f=MODEL_SAVE_PATH_GDRIVE)"
      ],
      "metadata": {
        "colab": {
          "base_uri": "https://localhost:8080/"
        },
        "id": "8GHaTnqsYWIe",
        "outputId": "994b8862-6764-4686-8f08-473fd8689ea8"
      },
      "execution_count": null,
      "outputs": [
        {
          "output_type": "stream",
          "name": "stdout",
          "text": [
            "Saving model to /content/drive/My Drive/Colab Notebooks/Models/PyTorch Tutorial/01_LinearRegressionModel.pth\n"
          ]
        }
      ]
    },
    {
      "cell_type": "markdown",
      "source": [
        "## Let's load our model back\n",
        "When we load our model, we're only loading the model's saved `state_dict()`. To use this, we need to instantiate a new instance of our model class, then set this new instance's `state_dict()` to be equal to the saved `state_dict()`."
      ],
      "metadata": {
        "id": "869dNU8t6XaT"
      }
    },
    {
      "cell_type": "code",
      "source": [
        "# @title First, let's load it back from Colab\n",
        "\n",
        "# Create a new instance of our model\n",
        "loaded_model_0 = LinearRegressionModel()\n",
        "\n",
        "# Then load in the saved state_dict()\n",
        "loaded_model_0.load_state_dict(torch.load(f=MODEL_SAVE_PATH))"
      ],
      "metadata": {
        "colab": {
          "base_uri": "https://localhost:8080/"
        },
        "id": "p7-4Bkq67ko2",
        "outputId": "5b53380b-dfac-4a57-c470-79f96bd56b76"
      },
      "execution_count": null,
      "outputs": [
        {
          "output_type": "execute_result",
          "data": {
            "text/plain": [
              "<All keys matched successfully>"
            ]
          },
          "metadata": {},
          "execution_count": 24
        }
      ]
    },
    {
      "cell_type": "code",
      "source": [
        "# @title We can do the same from drive\n",
        "\n",
        "loaded_gdrive_model_0 = LinearRegressionModel()\n",
        "loaded_gdrive_model_0.load_state_dict(torch.load(f=MODEL_SAVE_PATH_GDRIVE))"
      ],
      "metadata": {
        "colab": {
          "base_uri": "https://localhost:8080/"
        },
        "id": "jxpR1dER81mY",
        "outputId": "ffbd1ea5-5909-436a-ea9f-1b1e4be26ec5"
      },
      "execution_count": null,
      "outputs": [
        {
          "output_type": "execute_result",
          "data": {
            "text/plain": [
              "<All keys matched successfully>"
            ]
          },
          "metadata": {},
          "execution_count": 25
        }
      ]
    },
    {
      "cell_type": "code",
      "source": [
        "# @title We can use this loaded model to make the same predictions\n",
        "\n",
        "loaded_gdrive_model_0.eval()\n",
        "\n",
        "with torch.inference_mode():\n",
        "  loaded_y_preds = loaded_gdrive_model_0(X_test)"
      ],
      "metadata": {
        "id": "GGGKpdic9BtB"
      },
      "execution_count": null,
      "outputs": []
    },
    {
      "cell_type": "code",
      "source": [
        "# @title Compare the saved model to the loaded model (they'll be the same)\n",
        "\n",
        "y_preds == loaded_y_preds"
      ],
      "metadata": {
        "colab": {
          "base_uri": "https://localhost:8080/"
        },
        "id": "22dtn69T9ZXo",
        "outputId": "ceeff49b-086d-4a5c-f3c4-a8c176d7fc53"
      },
      "execution_count": null,
      "outputs": [
        {
          "output_type": "execute_result",
          "data": {
            "text/plain": [
              "tensor([[True],\n",
              "        [True],\n",
              "        [True],\n",
              "        [True],\n",
              "        [True],\n",
              "        [True],\n",
              "        [True],\n",
              "        [True],\n",
              "        [True],\n",
              "        [True]])"
            ]
          },
          "metadata": {},
          "execution_count": 27
        }
      ]
    },
    {
      "cell_type": "markdown",
      "source": [
        "# Putting it all together\n",
        "\n",
        "Let's do this all again, this time using torch.nn to make our parameters for us as well as device agnostic code! Here are the steps:\n",
        "\n",
        "1. Get data (generate and split data)\n",
        "2. Build model (using nn.Linear)\n",
        "3. Train model\n",
        "4. Test model\n",
        "5. Save (and load back) model"
      ],
      "metadata": {
        "id": "SoOQc4HpEdS3"
      }
    },
    {
      "cell_type": "markdown",
      "source": [
        "## 1. Get data\n",
        "Let's just use our old dataset (the steps to make a new dataset would've been exactly the same)."
      ],
      "metadata": {
        "id": "MbZkBkXvOxzq"
      }
    },
    {
      "cell_type": "code",
      "source": [
        "X_train, X_test, y_train, y_test"
      ],
      "metadata": {
        "colab": {
          "base_uri": "https://localhost:8080/"
        },
        "id": "OdezTubaPL78",
        "outputId": "debbdb04-4553-487f-8c62-c2f7c38e843e"
      },
      "execution_count": null,
      "outputs": [
        {
          "output_type": "execute_result",
          "data": {
            "text/plain": [
              "(tensor([[0.0000],\n",
              "         [0.0200],\n",
              "         [0.0400],\n",
              "         [0.0600],\n",
              "         [0.0800],\n",
              "         [0.1000],\n",
              "         [0.1200],\n",
              "         [0.1400],\n",
              "         [0.1600],\n",
              "         [0.1800],\n",
              "         [0.2000],\n",
              "         [0.2200],\n",
              "         [0.2400],\n",
              "         [0.2600],\n",
              "         [0.2800],\n",
              "         [0.3000],\n",
              "         [0.3200],\n",
              "         [0.3400],\n",
              "         [0.3600],\n",
              "         [0.3800],\n",
              "         [0.4000],\n",
              "         [0.4200],\n",
              "         [0.4400],\n",
              "         [0.4600],\n",
              "         [0.4800],\n",
              "         [0.5000],\n",
              "         [0.5200],\n",
              "         [0.5400],\n",
              "         [0.5600],\n",
              "         [0.5800],\n",
              "         [0.6000],\n",
              "         [0.6200],\n",
              "         [0.6400],\n",
              "         [0.6600],\n",
              "         [0.6800],\n",
              "         [0.7000],\n",
              "         [0.7200],\n",
              "         [0.7400],\n",
              "         [0.7600],\n",
              "         [0.7800]]),\n",
              " tensor([[0.8000],\n",
              "         [0.8200],\n",
              "         [0.8400],\n",
              "         [0.8600],\n",
              "         [0.8800],\n",
              "         [0.9000],\n",
              "         [0.9200],\n",
              "         [0.9400],\n",
              "         [0.9600],\n",
              "         [0.9800]]),\n",
              " tensor([[0.3000],\n",
              "         [0.3140],\n",
              "         [0.3280],\n",
              "         [0.3420],\n",
              "         [0.3560],\n",
              "         [0.3700],\n",
              "         [0.3840],\n",
              "         [0.3980],\n",
              "         [0.4120],\n",
              "         [0.4260],\n",
              "         [0.4400],\n",
              "         [0.4540],\n",
              "         [0.4680],\n",
              "         [0.4820],\n",
              "         [0.4960],\n",
              "         [0.5100],\n",
              "         [0.5240],\n",
              "         [0.5380],\n",
              "         [0.5520],\n",
              "         [0.5660],\n",
              "         [0.5800],\n",
              "         [0.5940],\n",
              "         [0.6080],\n",
              "         [0.6220],\n",
              "         [0.6360],\n",
              "         [0.6500],\n",
              "         [0.6640],\n",
              "         [0.6780],\n",
              "         [0.6920],\n",
              "         [0.7060],\n",
              "         [0.7200],\n",
              "         [0.7340],\n",
              "         [0.7480],\n",
              "         [0.7620],\n",
              "         [0.7760],\n",
              "         [0.7900],\n",
              "         [0.8040],\n",
              "         [0.8180],\n",
              "         [0.8320],\n",
              "         [0.8460]]),\n",
              " tensor([[0.8600],\n",
              "         [0.8740],\n",
              "         [0.8880],\n",
              "         [0.9020],\n",
              "         [0.9160],\n",
              "         [0.9300],\n",
              "         [0.9440],\n",
              "         [0.9580],\n",
              "         [0.9720],\n",
              "         [0.9860]]))"
            ]
          },
          "metadata": {},
          "execution_count": 5
        }
      ]
    },
    {
      "cell_type": "code",
      "source": [
        "# @title Plot the data\n",
        "\n",
        "plot_predictions()"
      ],
      "metadata": {
        "colab": {
          "base_uri": "https://localhost:8080/"
        },
        "id": "CDrMRBDRQ0oo",
        "outputId": "941ebc79-bba7-40a0-910b-f3077f8d4027"
      },
      "execution_count": null,
      "outputs": [
        {
          "output_type": "display_data",
          "data": {
            "text/plain": [
              "<Figure size 700x500 with 1 Axes>"
            ],
            "image/png": "[encoded data removed]"
          },
          "metadata": {}
        }
      ]
    },
    {
      "cell_type": "markdown",
      "source": [
        "## 2. Build model\n",
        "We're gonna use `nn.Linear` to make our linear regression model this time. `torch.nn` has a bunch of layers that we can use to make models with, like convolutional, dropout, linear/dense/FC, etc. layers.\n",
        "\n",
        "`nn.Linear` learns a weight and a bias to best match predictions to input variables.\n",
        "\n",
        "The two parameters given are `in_features` (size of each input sample) and `out_features` (size of each output sample)."
      ],
      "metadata": {
        "id": "CN220UlYRRxT"
      }
    },
    {
      "cell_type": "code",
      "source": [
        "# @title Building the linear regression model\n",
        "\n",
        "class LinearRegressionModelV2(nn.Module):\n",
        "  def __init__(self):\n",
        "    super().__init__()\n",
        "    self.linear_layer = nn.Linear(in_features=1,  # <- size of each input sample is just 1 value\n",
        "                                  out_features=1) # <- size of each output sample is also 1 value\n",
        "  def forward(self, x: torch.Tensor) -> torch.Tensor:\n",
        "    return self.linear_layer(x)\n",
        "\n",
        "# Additionally, set manual seed and instantiate the model\n",
        "torch.manual_seed(42)\n",
        "model_1 = LinearRegressionModelV2()\n",
        "model_1, model_1.state_dict()"
      ],
      "metadata": {
        "colab": {
          "base_uri": "https://localhost:8080/"
        },
        "cellView": "form",
        "id": "9Kp1e74qRQZm",
        "outputId": "f69251f6-f6e1-439a-8b00-fdbe67a20c04"
      },
      "execution_count": null,
      "outputs": [
        {
          "output_type": "execute_result",
          "data": {
            "text/plain": [
              "(LinearRegressionModelV2(\n",
              "   (linear_layer): Linear(in_features=1, out_features=1, bias=True)\n",
              " ),\n",
              " OrderedDict([('linear_layer.weight', tensor([[0.7645]])),\n",
              "              ('linear_layer.bias', tensor([0.8300]))]))"
            ]
          },
          "metadata": {},
          "execution_count": 7
        }
      ]
    },
    {
      "cell_type": "code",
      "source": [
        "# @title Writing device agnostic code\n",
        "if torch.cuda.is_available():\n",
        "  device = \"cuda\"\n",
        "else:\n",
        "  device = \"cpu\"\n",
        "\n",
        "model_1.to(device)  # <- will send model to GPU if available, else will stay on the CPU by default\n",
        "next(model_1.parameters()).device"
      ],
      "metadata": {
        "colab": {
          "base_uri": "https://localhost:8080/"
        },
        "id": "WmgoefiEC2ke",
        "outputId": "c4a01577-7129-4dc1-aedf-645b58732456"
      },
      "execution_count": null,
      "outputs": [
        {
          "output_type": "execute_result",
          "data": {
            "text/plain": [
              "device(type='cpu')"
            ]
          },
          "metadata": {},
          "execution_count": 8
        }
      ]
    },
    {
      "cell_type": "markdown",
      "source": [
        "## 3 & 4. Training and testing the model"
      ],
      "metadata": {
        "id": "lGMUNfkPD31Q"
      }
    },
    {
      "cell_type": "code",
      "source": [
        "# @title Selecting loss function and optimiser\n",
        "\n",
        "loss_fn = nn.L1Loss()\n",
        "optimiser = torch.optim.SGD(params=model_1.parameters(),\n",
        "                            lr=0.002) # <- I'm decreasing the lr (and I'll increase the no. of epochs for hopefully better results)"
      ],
      "metadata": {
        "cellView": "form",
        "id": "ouAniI40DlnC"
      },
      "execution_count": null,
      "outputs": []
    },
    {
      "cell_type": "code",
      "source": [
        "# @title Training loop\n",
        "\n",
        "torch.manual_seed(42)\n",
        "\n",
        "epoch_count = []\n",
        "train_loss_values = []\n",
        "test_loss_values = []\n",
        "\n",
        "# Send all tensors/data to device\n",
        "X_train = X_train.to(device)\n",
        "X_test = X_test.to(device)\n",
        "y_train = y_train.to(device)\n",
        "y_test = y_test.to(device)\n",
        "\n",
        "epochs = 1000\n",
        "\n",
        "for epoch in range(epochs):\n",
        "  ## Testing\n",
        "  # 0. Set model to training mode\n",
        "  model_1.train()\n",
        "\n",
        "  # 1. Do the forward pass\n",
        "  y_pred = model_1(X_train)\n",
        "\n",
        "  # 2. Calculate the loss\n",
        "  train_loss = loss_fn(y_pred, y_train)\n",
        "\n",
        "  # 3. Optimiser zero grad\n",
        "  optimiser.zero_grad()\n",
        "\n",
        "  # 4. Loss backward\n",
        "  train_loss.backward()\n",
        "\n",
        "  # 5. Update optimiser\n",
        "  optimiser.step()\n",
        "\n",
        "  ## Testing\n",
        "  # 1. Set model to testing mode\n",
        "  model_1.eval()\n",
        "\n",
        "  # 2. Forward pass (w/ inference mode)\n",
        "  with torch.inference_mode():\n",
        "    test_pred = model_1(X_test)\n",
        "\n",
        "    # 3. Calculate loss\n",
        "    test_loss = loss_fn(test_pred, y_test)\n",
        "\n",
        "  if epoch % 100 == 0:\n",
        "    epoch_count.append(epoch) # <- We use these lists to plot our model's progress\n",
        "    train_loss_values.append(train_loss.detach().numpy()) # <- .detach() returns a tensor that isn't connected to the NN (i.e. doesn't store gradients)\n",
        "    test_loss_values.append(test_loss.detach().numpy()) # <- .numpy() turns our detached tensor to a np array, which we can plot w/ matplotlib\n",
        "    print(\"Epoch: {}\\tLoss: {}\\tTest loss: {}\".format(epoch, train_loss, test_loss))\n",
        "    print(model_1.state_dict())\n",
        "    print()"
      ],
      "metadata": {
        "colab": {
          "base_uri": "https://localhost:8080/"
        },
        "cellView": "form",
        "id": "nYz09bB7EzuK",
        "outputId": "58dfd008-6205-4481-f480-08f61b3e0743"
      },
      "execution_count": null,
      "outputs": [
        {
          "output_type": "stream",
          "name": "stdout",
          "text": [
            "Epoch: 0\tLoss: 0.5551779866218567\tTest loss: 0.5847529768943787\n",
            "OrderedDict([('linear_layer.weight', tensor([[0.7638]])), ('linear_layer.bias', tensor([0.8280]))])\n",
            "\n",
            "Epoch: 100\tLoss: 0.3247610628604889\tTest loss: 0.31533679366111755\n",
            "OrderedDict([('linear_layer.weight', tensor([[0.6858]])), ('linear_layer.bias', tensor([0.6280]))])\n",
            "\n",
            "Epoch: 200\tLoss: 0.09434310346841812\tTest loss: 0.04591952636837959\n",
            "OrderedDict([('linear_layer.weight', tensor([[0.6078]])), ('linear_layer.bias', tensor([0.4280]))])\n",
            "\n",
            "Epoch: 300\tLoss: 0.019899100065231323\tTest loss: 0.046085845679044724\n",
            "OrderedDict([('linear_layer.weight', tensor([[0.6015]])), ('linear_layer.bias', tensor([0.3416]))])\n",
            "\n",
            "Epoch: 400\tLoss: 0.01302230916917324\tTest loss: 0.03036457858979702\n",
            "OrderedDict([('linear_layer.weight', tensor([[0.6355]])), ('linear_layer.bias', tensor([0.3270]))])\n",
            "\n",
            "Epoch: 500\tLoss: 0.006154827773571014\tTest loss: 0.014231031760573387\n",
            "OrderedDict([('linear_layer.weight', tensor([[0.6697]])), ('linear_layer.bias', tensor([0.3127]))])\n",
            "\n",
            "Epoch: 600\tLoss: 0.0018050819635391235\tTest loss: 0.0010281503200531006\n",
            "OrderedDict([('linear_layer.weight', tensor([[0.6989]])), ('linear_layer.bias', tensor([0.2999]))])\n",
            "\n",
            "Epoch: 700\tLoss: 0.0018050819635391235\tTest loss: 0.0010281503200531006\n",
            "OrderedDict([('linear_layer.weight', tensor([[0.6989]])), ('linear_layer.bias', tensor([0.2999]))])\n",
            "\n",
            "Epoch: 800\tLoss: 0.0018050819635391235\tTest loss: 0.0010281503200531006\n",
            "OrderedDict([('linear_layer.weight', tensor([[0.6989]])), ('linear_layer.bias', tensor([0.2999]))])\n",
            "\n",
            "Epoch: 900\tLoss: 0.0018050819635391235\tTest loss: 0.0010281503200531006\n",
            "OrderedDict([('linear_layer.weight', tensor([[0.6989]])), ('linear_layer.bias', tensor([0.2999]))])\n",
            "\n"
          ]
        }
      ]
    },
    {
      "cell_type": "code",
      "source": [
        "# @title Visualise loss curves\n",
        "\n",
        "plt.plot(epoch_count, train_loss_values, label=\"Train loss\")\n",
        "plt.plot(epoch_count, test_loss_values, label=\"Test loss\")\n",
        "plt.title(\"Training and test loss curves\")\n",
        "plt.ylabel(\"Loss\")\n",
        "plt.xlabel(\"Epochs\")\n",
        "plt.legend()"
      ],
      "metadata": {
        "colab": {
          "base_uri": "https://localhost:8080/",
          "height": 490
        },
        "cellView": "form",
        "id": "SDY-z4t5YHCN",
        "outputId": "d42e41b2-0342-4879-9325-cc6079ee3593"
      },
      "execution_count": null,
      "outputs": [
        {
          "output_type": "execute_result",
          "data": {
            "text/plain": [
              "<matplotlib.legend.Legend at 0x7e65ec39fdc0>"
            ]
          },
          "metadata": {},
          "execution_count": 11
        },
        {
          "output_type": "display_data",
          "data": {
            "text/plain": [
              "<Figure size 640x480 with 1 Axes>"
            ],
            "image/png": "[encoded data removed]"
          },
          "metadata": {}
        }
      ]
    },
    {
      "cell_type": "code",
      "source": [
        "# @title Making predictions and visualising\n",
        "\n",
        "model_1.eval()\n",
        "\n",
        "with torch.inference_mode():\n",
        "  y_pred = model_1(X_test)\n",
        "\n",
        "plot_predictions(predictions=y_pred.cpu())"
      ],
      "metadata": {
        "colab": {
          "base_uri": "https://localhost:8080/",
          "height": 445
        },
        "id": "c36NuWKKay3L",
        "outputId": "1b9d9f7f-63c4-401e-8e0b-99a38458f857"
      },
      "execution_count": null,
      "outputs": [
        {
          "output_type": "display_data",
          "data": {
            "text/plain": [
              "<Figure size 700x500 with 1 Axes>"
            ],
            "image/png": "[encoded data removed]"
          },
          "metadata": {}
        }
      ]
    },
    {
      "cell_type": "markdown",
      "source": [
        "## 5. Saving the model\n",
        "Let's revise how to save and load a model to Drive."
      ],
      "metadata": {
        "id": "sIY--guPcTZX"
      }
    },
    {
      "cell_type": "code",
      "source": [
        "# @title Mount Drive\n",
        "\n",
        "from google.colab import drive\n",
        "drive.mount('/content/drive')"
      ],
      "metadata": {
        "colab": {
          "base_uri": "https://localhost:8080/"
        },
        "id": "2OddPKe_dHqL",
        "outputId": "bf5a558a-80e2-41a6-b676-f1842143c06b"
      },
      "execution_count": null,
      "outputs": [
        {
          "output_type": "stream",
          "name": "stdout",
          "text": [
            "Drive already mounted at /content/drive; to attempt to forcibly remount, call drive.mount(\"/content/drive\", force_remount=True).\n"
          ]
        }
      ]
    },
    {
      "cell_type": "code",
      "source": [
        "# @title Save model\n",
        "\n",
        "MODEL_NAME = \"01_LinearRegressionModelV2.pth\"\n",
        "MODEL_SAVE_PATH = f\"/content/drive/My Drive/Colab Notebooks/Models/PyTorch Tutorial/{MODEL_NAME}\"\n",
        "\n",
        "print(\"Saving model to {}\".format(MODEL_SAVE_PATH))\n",
        "torch.save(obj=model_1.state_dict(),\n",
        "           f=MODEL_SAVE_PATH)"
      ],
      "metadata": {
        "colab": {
          "base_uri": "https://localhost:8080/"
        },
        "id": "iATKvW6CjDXG",
        "outputId": "4177ee8a-ef70-4d67-b26f-366a63fab447"
      },
      "execution_count": null,
      "outputs": [
        {
          "output_type": "stream",
          "name": "stdout",
          "text": [
            "Saving model to /content/drive/My Drive/Colab Notebooks/Models/PyTorch Tutorial/01_LinearRegressionModelV2.pth\n"
          ]
        }
      ]
    },
    {
      "cell_type": "code",
      "source": [
        "# @title Load model\n",
        "\n",
        "loaded_model_1 = LinearRegressionModelV2()\n",
        "loaded_model_1.load_state_dict(torch.load(f=MODEL_SAVE_PATH))"
      ],
      "metadata": {
        "colab": {
          "base_uri": "https://localhost:8080/"
        },
        "id": "9peRlc9Id17u",
        "outputId": "51860eae-b8c0-4cb6-d422-142c5d9e497f"
      },
      "execution_count": null,
      "outputs": [
        {
          "output_type": "execute_result",
          "data": {
            "text/plain": [
              "<All keys matched successfully>"
            ]
          },
          "metadata": {},
          "execution_count": 16
        }
      ]
    },
    {
      "cell_type": "code",
      "source": [
        "# @title Compare original to loaded model\n",
        "\n",
        "loaded_model_1.eval()\n",
        "with torch.inference_mode():\n",
        "  loaded_pred = model_1(X_test)\n",
        "\n",
        "y_pred == loaded_pred"
      ],
      "metadata": {
        "colab": {
          "base_uri": "https://localhost:8080/"
        },
        "id": "IjafkarYewt5",
        "outputId": "bc32132c-9c35-4548-a828-94494b1d25e8"
      },
      "execution_count": null,
      "outputs": [
        {
          "output_type": "execute_result",
          "data": {
            "text/plain": [
              "tensor([[True],\n",
              "        [True],\n",
              "        [True],\n",
              "        [True],\n",
              "        [True],\n",
              "        [True],\n",
              "        [True],\n",
              "        [True],\n",
              "        [True],\n",
              "        [True]])"
            ]
          },
          "metadata": {},
          "execution_count": 18
        }
      ]
    }
  ]
}